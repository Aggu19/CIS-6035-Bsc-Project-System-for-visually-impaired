{
 "cells": [
  {
   "cell_type": "code",
   "execution_count": 1,
   "id": "0b783083",
   "metadata": {},
   "outputs": [],
   "source": [
    "import os\n",
    "import yaml\n",
    "import shutil\n",
    "import subprocess"
   ]
  },
  {
   "cell_type": "code",
   "execution_count": null,
   "id": "cf28dd0f",
   "metadata": {},
   "outputs": [],
   "source": [
    "DATA_ZIP_PATH = 'finetuned.zip.zip'\n",
    "CUSTOM_DATA_DIR = 'custom_data'\n",
    "DATA_YAML_PATH = 'data.yaml'"
   ]
  },
  {
   "cell_type": "code",
   "execution_count": 3,
   "id": "48c82bdf",
   "metadata": {},
   "outputs": [],
   "source": [
    "TRAIN_VALIDATION_RATIO = 0.9 # 90% for training, 10% for validation\n"
   ]
  },
  {
   "cell_type": "code",
   "execution_count": null,
   "id": "9d75d1a2",
   "metadata": {},
   "outputs": [],
   "source": [
    "# Training Parameters\n",
    "YOLO_MODEL = 'yolov11n.pt' \n",
    "EPOCHS = 60\n",
    "IMAGE_SIZE = 640"
   ]
  },
  {
   "cell_type": "code",
   "execution_count": null,
   "id": "85c2adc9",
   "metadata": {},
   "outputs": [],
   "source": [
    "print(\">>> Step 2: Unzipping the dataset...\")\n",
    "if not os.path.exists(CUSTOM_DATA_DIR):\n",
    "    # The command is adapted for cross-platform use.\n",
    "    # On Windows, you might need to install 'unzip' or use a Python library.\n",
    "    # For simplicity, this uses the shell.\n",
    "    try:\n",
    "        subprocess.run(f\"unzip -q {DATA_ZIP_PATH} -d {CUSTOM_DATA_DIR}\", shell=True, check=True)\n",
    "        print(f\"Successfully unzipped {DATA_ZIP_PATH} to {CUSTOM_DATA_DIR}\")\n",
    "    except subprocess.CalledProcessError as e:\n",
    "        print(f\"Error unzipping file: {e}. Make sure 'unzip' is installed and in your PATH.\")\n",
    "        exit()\n",
    "else:\n",
    "    print(f\"Directory '{CUSTOM_DATA_DIR}' already exists. Skipping unzip.\")\n"
   ]
  },
  {
   "cell_type": "code",
   "execution_count": null,
   "id": "0c2e31ec",
   "metadata": {},
   "outputs": [],
   "source": [
    "print(\"\\n>>> Step 3: Splitting data into training and validation sets...\")\n",
    "# This step assumes 'train_val_split.py' is in the same directory.\n",
    "try:\n",
    "    subprocess.run(\n",
    "        f\"python train_val_split.py --datapath=\\\"{CUSTOM_DATA_DIR}\\\" --train_pct={TRAIN_VALIDATION_RATIO}\",\n",
    "        shell=True,\n",
    "        check=True\n",
    "    )\n",
    "    print(\"Data successfully split.\")\n",
    "except subprocess.CalledProcessError as e:\n",
    "    print(f\"Error running train_val_split.py: {e}\")\n",
    "    exit()"
   ]
  },
  {
   "cell_type": "code",
   "execution_count": null,
   "id": "29608567",
   "metadata": {},
   "outputs": [],
   "source": [
    "print(\"\\n>>> Step 4: Creating the data.yaml configuration file...\")\n",
    "path_to_classes_txt = os.path.join(CUSTOM_DATA_DIR, 'classes.txt')\n",
    "\n",
    "if not os.path.exists(path_to_classes_txt):\n",
    "    print(f\"Error: 'classes.txt' not found in '{CUSTOM_DATA_DIR}'!\")\n",
    "    exit()\n",
    "\n",
    "with open(path_to_classes_txt, 'r') as f:\n",
    "    classes = [line.strip() for line in f if line.strip()]\n",
    "    number_of_classes = len(classes)\n",
    "    print(f\"Found classes: {classes}\")"
   ]
  },
  {
   "cell_type": "code",
   "execution_count": null,
   "id": "c573a01b",
   "metadata": {},
   "outputs": [],
   "source": [
    "data_config = {\n",
    "    'path': os.path.abspath('data'), # Absolute path is more robust for YOLO\n",
    "    'train': 'train/images',\n",
    "    'val': 'validation/images',\n",
    "    'nc': number_of_classes,\n",
    "    'names': classes\n",
    "}\n",
    "\n",
    "with open(DATA_YAML_PATH, 'w') as f:\n",
    "    yaml.dump(data_config, f, sort_keys=False)\n",
    "\n",
    "print(f\"'{DATA_YAML_PATH}' created successfully.\")\n",
    "print(\"\\nFile contents:\\n\")\n",
    "with open(DATA_YAML_PATH, 'r') as f:\n",
    "    print(f.read())"
   ]
  },
  {
   "cell_type": "code",
   "execution_count": null,
   "id": "f1bed097",
   "metadata": {},
   "outputs": [],
   "source": [
    "print(\"\\n>>> Step 5: Starting model training...\")\n",
    "# The 'yolo' command should be available if 'ultralytics' is installed.\n",
    "try:\n",
    "    command = (\n",
    "        f\"yolo detect train data={DATA_YAML_PATH} \"\n",
    "        f\"model={YOLO_MODEL} epochs={EPOCHS} imgsz={IMAGE_SIZE}\"\n",
    "    )\n",
    "    subprocess.run(command, shell=True, check=True)\n",
    "    print(\"Training complete.\")\n",
    "except subprocess.CalledProcessError as e:\n",
    "    print(f\"Error during training: {e}\")\n",
    "    exit()"
   ]
  },
  {
   "cell_type": "code",
   "execution_count": null,
   "id": "f5b8b227",
   "metadata": {},
   "outputs": [],
   "source": [
    "print(\"\\n>>> Step 6: Testing the trained model on validation images...\")\n",
    "path_to_best_weights = 'runs/detect/train/weights/best.pt'\n",
    "validation_images_path = os.path.join('data', 'validation', 'images')\n",
    "\n",
    "if os.path.exists(path_to_best_weights):\n",
    "    try:\n",
    "        command = (\n",
    "            f\"yolo detect predict model={path_to_best_weights} \"\n",
    "            f\"source={validation_images_path} save=True\"\n",
    "        )\n",
    "        subprocess.run(command, shell=True, check=True)\n",
    "        print(\"\\nPrediction complete. Results are saved in 'runs/detect/predict/'.\")\n",
    "    except subprocess.CalledProcessError as e:\n",
    "        print(f\"Error during prediction: {e}\")\n",
    "else:\n",
    "    print(f\"Could not find trained weights at '{path_to_best_weights}'. Skipping test.\")"
   ]
  },
  {
   "cell_type": "code",
   "execution_count": null,
   "id": "c5abbfbc",
   "metadata": {},
   "outputs": [],
   "source": [
    "print(\"\\n>>> Step 7: Packaging the model for deployment...\")\n",
    "output_model_dir = 'my_model'\n",
    "if os.path.exists(output_model_dir):\n",
    "    shutil.rmtree(output_model_dir) # Clean up old directory\n",
    "os.makedirs(output_model_dir)"
   ]
  },
  {
   "cell_type": "code",
   "execution_count": null,
   "id": "4ae22218",
   "metadata": {},
   "outputs": [],
   "source": [
    "shutil.copy(path_to_best_weights, os.path.join(output_model_dir, 'my_model.pt'))"
   ]
  },
  {
   "cell_type": "code",
   "execution_count": null,
   "id": "c9663d34",
   "metadata": {},
   "outputs": [],
   "source": [
    "shutil.copytree('runs/detect/train', os.path.join(output_model_dir, 'training_results'))"
   ]
  }
 ],
 "metadata": {
  "kernelspec": {
   "display_name": ".venv",
   "language": "python",
   "name": "python3"
  },
  "language_info": {
   "codemirror_mode": {
    "name": "ipython",
    "version": 3
   },
   "file_extension": ".py",
   "mimetype": "text/x-python",
   "name": "python",
   "nbconvert_exporter": "python",
   "pygments_lexer": "ipython3",
   "version": "3.13.3"
  }
 },
 "nbformat": 4,
 "nbformat_minor": 5
}
